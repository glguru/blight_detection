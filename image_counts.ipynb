{
 "cells": [
  {
   "cell_type": "code",
   "execution_count": 2,
   "metadata": {},
   "outputs": [
    {
     "name": "stderr",
     "output_type": "stream",
     "text": [
      "C:\\Users\\dist0pia\\AppData\\Local\\Temp\\ipykernel_24508\\3026406390.py:1: DeprecationWarning: \n",
      "Pyarrow will become a required dependency of pandas in the next major release of pandas (pandas 3.0),\n",
      "(to allow more performant data types, such as the Arrow string type, and better interoperability with other libraries)\n",
      "but was not found to be installed on your system.\n",
      "If this would cause problems for you,\n",
      "please provide us feedback at https://github.com/pandas-dev/pandas/issues/54466\n",
      "        \n",
      "  import pandas as pd\n"
     ]
    }
   ],
   "source": [
    "import pandas as pd\n",
    "import os"
   ]
  },
  {
   "cell_type": "code",
   "execution_count": 3,
   "metadata": {},
   "outputs": [],
   "source": [
    "path = \"PlantLeaf.v7-latest.tensorflow\\\\train\\\\_annotations.csv\""
   ]
  },
  {
   "cell_type": "code",
   "execution_count": 4,
   "metadata": {},
   "outputs": [],
   "source": [
    "df = pd.read_csv(path)"
   ]
  },
  {
   "cell_type": "code",
   "execution_count": 5,
   "metadata": {},
   "outputs": [
    {
     "data": {
      "text/html": [
       "<div>\n",
       "<style scoped>\n",
       "    .dataframe tbody tr th:only-of-type {\n",
       "        vertical-align: middle;\n",
       "    }\n",
       "\n",
       "    .dataframe tbody tr th {\n",
       "        vertical-align: top;\n",
       "    }\n",
       "\n",
       "    .dataframe thead th {\n",
       "        text-align: right;\n",
       "    }\n",
       "</style>\n",
       "<table border=\"1\" class=\"dataframe\">\n",
       "  <thead>\n",
       "    <tr style=\"text-align: right;\">\n",
       "      <th></th>\n",
       "      <th>filename</th>\n",
       "      <th>width</th>\n",
       "      <th>height</th>\n",
       "      <th>class</th>\n",
       "      <th>xmin</th>\n",
       "      <th>ymin</th>\n",
       "      <th>xmax</th>\n",
       "      <th>ymax</th>\n",
       "    </tr>\n",
       "  </thead>\n",
       "  <tbody>\n",
       "    <tr>\n",
       "      <th>0</th>\n",
       "      <td>20230503_132311_jpg.rf.bff2c7c35974b39f2e8f8a2...</td>\n",
       "      <td>640</td>\n",
       "      <td>640</td>\n",
       "      <td>Dolicos bean_healthy</td>\n",
       "      <td>1</td>\n",
       "      <td>143</td>\n",
       "      <td>540</td>\n",
       "      <td>438</td>\n",
       "    </tr>\n",
       "    <tr>\n",
       "      <th>1</th>\n",
       "      <td>20230503_132311_jpg.rf.bff2c7c35974b39f2e8f8a2...</td>\n",
       "      <td>640</td>\n",
       "      <td>640</td>\n",
       "      <td>Dolicos bean_healthy</td>\n",
       "      <td>0</td>\n",
       "      <td>449</td>\n",
       "      <td>291</td>\n",
       "      <td>640</td>\n",
       "    </tr>\n",
       "    <tr>\n",
       "      <th>2</th>\n",
       "      <td>DSCN0704_JPG.rf.c0a77f4b3344caf116673c5e11be46...</td>\n",
       "      <td>640</td>\n",
       "      <td>640</td>\n",
       "      <td>Dolicos bean_healthy</td>\n",
       "      <td>117</td>\n",
       "      <td>44</td>\n",
       "      <td>574</td>\n",
       "      <td>588</td>\n",
       "    </tr>\n",
       "    <tr>\n",
       "      <th>3</th>\n",
       "      <td>DSCN0874_JPG.rf.c0a09c52ccf6e01133e76ed2b8567a...</td>\n",
       "      <td>640</td>\n",
       "      <td>640</td>\n",
       "      <td>Dolicos bean_healthy</td>\n",
       "      <td>38</td>\n",
       "      <td>12</td>\n",
       "      <td>548</td>\n",
       "      <td>640</td>\n",
       "    </tr>\n",
       "    <tr>\n",
       "      <th>4</th>\n",
       "      <td>IMG_20230503_122418_jpg.rf.be0522ff0d1f5185c04...</td>\n",
       "      <td>640</td>\n",
       "      <td>640</td>\n",
       "      <td>Black gram_leaf spot</td>\n",
       "      <td>21</td>\n",
       "      <td>0</td>\n",
       "      <td>534</td>\n",
       "      <td>355</td>\n",
       "    </tr>\n",
       "  </tbody>\n",
       "</table>\n",
       "</div>"
      ],
      "text/plain": [
       "                                            filename  width  height  \\\n",
       "0  20230503_132311_jpg.rf.bff2c7c35974b39f2e8f8a2...    640     640   \n",
       "1  20230503_132311_jpg.rf.bff2c7c35974b39f2e8f8a2...    640     640   \n",
       "2  DSCN0704_JPG.rf.c0a77f4b3344caf116673c5e11be46...    640     640   \n",
       "3  DSCN0874_JPG.rf.c0a09c52ccf6e01133e76ed2b8567a...    640     640   \n",
       "4  IMG_20230503_122418_jpg.rf.be0522ff0d1f5185c04...    640     640   \n",
       "\n",
       "                  class  xmin  ymin  xmax  ymax  \n",
       "0  Dolicos bean_healthy     1   143   540   438  \n",
       "1  Dolicos bean_healthy     0   449   291   640  \n",
       "2  Dolicos bean_healthy   117    44   574   588  \n",
       "3  Dolicos bean_healthy    38    12   548   640  \n",
       "4  Black gram_leaf spot    21     0   534   355  "
      ]
     },
     "execution_count": 5,
     "metadata": {},
     "output_type": "execute_result"
    }
   ],
   "source": [
    "df.head()"
   ]
  },
  {
   "cell_type": "code",
   "execution_count": 6,
   "metadata": {},
   "outputs": [],
   "source": [
    "ls1 = list(df['class'].value_counts())"
   ]
  },
  {
   "cell_type": "code",
   "execution_count": 7,
   "metadata": {},
   "outputs": [
    {
     "data": {
      "text/plain": [
       "[742, 570, 562, 441, 390, 385, 384, 373, 372, 326]"
      ]
     },
     "execution_count": 7,
     "metadata": {},
     "output_type": "execute_result"
    }
   ],
   "source": [
    "ls1"
   ]
  },
  {
   "cell_type": "code",
   "execution_count": 12,
   "metadata": {},
   "outputs": [],
   "source": [
    "vc1 = df['class'].value_counts()"
   ]
  },
  {
   "cell_type": "code",
   "execution_count": 9,
   "metadata": {},
   "outputs": [],
   "source": [
    "df2 = pd.read_csv(\"PlantLeaf.v7-latest.tensorflow\\\\test\\\\_annotations.csv\")"
   ]
  },
  {
   "cell_type": "code",
   "execution_count": 10,
   "metadata": {},
   "outputs": [
    {
     "data": {
      "text/html": [
       "<div>\n",
       "<style scoped>\n",
       "    .dataframe tbody tr th:only-of-type {\n",
       "        vertical-align: middle;\n",
       "    }\n",
       "\n",
       "    .dataframe tbody tr th {\n",
       "        vertical-align: top;\n",
       "    }\n",
       "\n",
       "    .dataframe thead th {\n",
       "        text-align: right;\n",
       "    }\n",
       "</style>\n",
       "<table border=\"1\" class=\"dataframe\">\n",
       "  <thead>\n",
       "    <tr style=\"text-align: right;\">\n",
       "      <th></th>\n",
       "      <th>filename</th>\n",
       "      <th>width</th>\n",
       "      <th>height</th>\n",
       "      <th>class</th>\n",
       "      <th>xmin</th>\n",
       "      <th>ymin</th>\n",
       "      <th>xmax</th>\n",
       "      <th>ymax</th>\n",
       "    </tr>\n",
       "  </thead>\n",
       "  <tbody>\n",
       "    <tr>\n",
       "      <th>0</th>\n",
       "      <td>DSCN0724_JPG.rf.08d39b2be15da1dd105e918c521a02...</td>\n",
       "      <td>640</td>\n",
       "      <td>640</td>\n",
       "      <td>Dolicos bean_healthy</td>\n",
       "      <td>30</td>\n",
       "      <td>52</td>\n",
       "      <td>500</td>\n",
       "      <td>633</td>\n",
       "    </tr>\n",
       "    <tr>\n",
       "      <th>1</th>\n",
       "      <td>DSCN0724_JPG.rf.08d39b2be15da1dd105e918c521a02...</td>\n",
       "      <td>640</td>\n",
       "      <td>640</td>\n",
       "      <td>Dolicos bean_healthy</td>\n",
       "      <td>368</td>\n",
       "      <td>240</td>\n",
       "      <td>588</td>\n",
       "      <td>501</td>\n",
       "    </tr>\n",
       "    <tr>\n",
       "      <th>2</th>\n",
       "      <td>20230503_123608_jpg.rf.08cf18b8c4d822ad993225a...</td>\n",
       "      <td>640</td>\n",
       "      <td>640</td>\n",
       "      <td>Ground nut_tikka leaf spot</td>\n",
       "      <td>87</td>\n",
       "      <td>168</td>\n",
       "      <td>480</td>\n",
       "      <td>593</td>\n",
       "    </tr>\n",
       "    <tr>\n",
       "      <th>3</th>\n",
       "      <td>DSCN0446_JPG.rf.137fc87e4f32f7f4cf0d2ee5c9ebf0...</td>\n",
       "      <td>640</td>\n",
       "      <td>640</td>\n",
       "      <td>Ground nut_healthy</td>\n",
       "      <td>295</td>\n",
       "      <td>130</td>\n",
       "      <td>530</td>\n",
       "      <td>351</td>\n",
       "    </tr>\n",
       "    <tr>\n",
       "      <th>4</th>\n",
       "      <td>DSCN0446_JPG.rf.137fc87e4f32f7f4cf0d2ee5c9ebf0...</td>\n",
       "      <td>640</td>\n",
       "      <td>640</td>\n",
       "      <td>Ground nut_healthy</td>\n",
       "      <td>129</td>\n",
       "      <td>239</td>\n",
       "      <td>289</td>\n",
       "      <td>373</td>\n",
       "    </tr>\n",
       "  </tbody>\n",
       "</table>\n",
       "</div>"
      ],
      "text/plain": [
       "                                            filename  width  height  \\\n",
       "0  DSCN0724_JPG.rf.08d39b2be15da1dd105e918c521a02...    640     640   \n",
       "1  DSCN0724_JPG.rf.08d39b2be15da1dd105e918c521a02...    640     640   \n",
       "2  20230503_123608_jpg.rf.08cf18b8c4d822ad993225a...    640     640   \n",
       "3  DSCN0446_JPG.rf.137fc87e4f32f7f4cf0d2ee5c9ebf0...    640     640   \n",
       "4  DSCN0446_JPG.rf.137fc87e4f32f7f4cf0d2ee5c9ebf0...    640     640   \n",
       "\n",
       "                        class  xmin  ymin  xmax  ymax  \n",
       "0        Dolicos bean_healthy    30    52   500   633  \n",
       "1        Dolicos bean_healthy   368   240   588   501  \n",
       "2  Ground nut_tikka leaf spot    87   168   480   593  \n",
       "3          Ground nut_healthy   295   130   530   351  \n",
       "4          Ground nut_healthy   129   239   289   373  "
      ]
     },
     "execution_count": 10,
     "metadata": {},
     "output_type": "execute_result"
    }
   ],
   "source": [
    "df2.head()"
   ]
  },
  {
   "cell_type": "code",
   "execution_count": 13,
   "metadata": {},
   "outputs": [],
   "source": [
    "vc2 = df2['class'].value_counts()"
   ]
  },
  {
   "cell_type": "code",
   "execution_count": 15,
   "metadata": {},
   "outputs": [],
   "source": [
    "total = vc1.add(vc2, fill_value=0)"
   ]
  },
  {
   "cell_type": "code",
   "execution_count": 16,
   "metadata": {},
   "outputs": [
    {
     "data": {
      "text/plain": [
       "class\n",
       "Black gram_healthy                   439\n",
       "Black gram_leaf spot                 455\n",
       "Dolicos bean_cercospora leaf spot    437\n",
       "Dolicos bean_healthy                 419\n",
       "Ground nut_healthy                   830\n",
       "Ground nut_tikka leaf spot           529\n",
       "millet_healthy                       449\n",
       "millet_rust                          399\n",
       "tomato_early blight                  638\n",
       "tomato_healthy                       685\n",
       "Name: count, dtype: int64"
      ]
     },
     "execution_count": 16,
     "metadata": {},
     "output_type": "execute_result"
    }
   ],
   "source": [
    "total"
   ]
  },
  {
   "cell_type": "code",
   "execution_count": 18,
   "metadata": {},
   "outputs": [
    {
     "data": {
      "text/plain": [
       "5280"
      ]
     },
     "execution_count": 18,
     "metadata": {},
     "output_type": "execute_result"
    }
   ],
   "source": [
    "total.sum()"
   ]
  },
  {
   "cell_type": "markdown",
   "metadata": {},
   "source": [
    "Plant Doc Dataset"
   ]
  },
  {
   "cell_type": "code",
   "execution_count": 4,
   "metadata": {},
   "outputs": [],
   "source": [
    "import os\n",
    "\n",
    "# Replace 'your_folder_path' with the path to your main folder containing subfolders\n",
    "train_folder_path = 'PlantDoc-Dataset\\\\train'\n",
    "test_folder_path = 'PlantDoc-Dataset\\\\test'\n",
    "\n",
    "# Function to count files in each subfolder\n",
    "def count_files_in_subfolders(folder_path):\n",
    "    counts = dict()\n",
    "    for subdir, dirs, files in os.walk(folder_path):\n",
    "        # Check if the current directory is not the main folder\n",
    "        if subdir != folder_path:\n",
    "            # Count the number of files in the current subfolder\n",
    "            file_count = len(files)\n",
    "            clas = str(subdir).split('\\\\')[-1]\n",
    "            # Print or store the results as needed\n",
    "            print(f\"Subfolder: {subdir}, Number of Files: {file_count}\")\n",
    "            counts[clas] = file_count\n",
    "    return counts\n",
    "\n"
   ]
  },
  {
   "cell_type": "code",
   "execution_count": 25,
   "metadata": {},
   "outputs": [
    {
     "name": "stdout",
     "output_type": "stream",
     "text": [
      "Subfolder: PlantDoc-Dataset\\train\\Apple leaf, Number of Files: 77\n",
      "Subfolder: PlantDoc-Dataset\\train\\Apple rust leaf, Number of Files: 76\n",
      "Subfolder: PlantDoc-Dataset\\train\\Apple Scab Leaf, Number of Files: 78\n",
      "Subfolder: PlantDoc-Dataset\\train\\Bell_pepper leaf, Number of Files: 49\n",
      "Subfolder: PlantDoc-Dataset\\train\\Bell_pepper leaf spot, Number of Files: 54\n",
      "Subfolder: PlantDoc-Dataset\\train\\Blueberry leaf, Number of Files: 97\n",
      "Subfolder: PlantDoc-Dataset\\train\\Cherry leaf, Number of Files: 45\n",
      "Subfolder: PlantDoc-Dataset\\train\\Corn Gray leaf spot, Number of Files: 61\n",
      "Subfolder: PlantDoc-Dataset\\train\\Corn leaf blight, Number of Files: 174\n",
      "Subfolder: PlantDoc-Dataset\\train\\Corn rust leaf, Number of Files: 102\n",
      "Subfolder: PlantDoc-Dataset\\train\\grape leaf, Number of Files: 53\n",
      "Subfolder: PlantDoc-Dataset\\train\\grape leaf black rot, Number of Files: 52\n",
      "Subfolder: PlantDoc-Dataset\\train\\Peach leaf, Number of Files: 101\n",
      "Subfolder: PlantDoc-Dataset\\train\\Potato leaf early blight, Number of Files: 106\n",
      "Subfolder: PlantDoc-Dataset\\train\\Potato leaf late blight, Number of Files: 97\n",
      "Subfolder: PlantDoc-Dataset\\train\\Raspberry leaf, Number of Files: 111\n",
      "Subfolder: PlantDoc-Dataset\\train\\Soyabean leaf, Number of Files: 54\n",
      "Subfolder: PlantDoc-Dataset\\train\\Squash Powdery mildew leaf, Number of Files: 120\n",
      "Subfolder: PlantDoc-Dataset\\train\\Strawberry leaf, Number of Files: 84\n",
      "Subfolder: PlantDoc-Dataset\\train\\Tomato Early blight leaf, Number of Files: 75\n",
      "Subfolder: PlantDoc-Dataset\\train\\Tomato leaf, Number of Files: 54\n",
      "Subfolder: PlantDoc-Dataset\\train\\Tomato leaf bacterial spot, Number of Files: 96\n",
      "Subfolder: PlantDoc-Dataset\\train\\Tomato leaf late blight, Number of Files: 100\n",
      "Subfolder: PlantDoc-Dataset\\train\\Tomato leaf mosaic virus, Number of Files: 44\n",
      "Subfolder: PlantDoc-Dataset\\train\\Tomato leaf yellow virus, Number of Files: 69\n",
      "Subfolder: PlantDoc-Dataset\\train\\Tomato mold leaf, Number of Files: 79\n",
      "Subfolder: PlantDoc-Dataset\\train\\Tomato Septoria leaf spot, Number of Files: 138\n",
      "Subfolder: PlantDoc-Dataset\\train\\Tomato two spotted spider mites leaf, Number of Files: 2\n"
     ]
    }
   ],
   "source": [
    "train_c = count_files_in_subfolders(train_folder_path)"
   ]
  },
  {
   "cell_type": "code",
   "execution_count": 26,
   "metadata": {},
   "outputs": [
    {
     "name": "stdout",
     "output_type": "stream",
     "text": [
      "Subfolder: PlantDoc-Dataset\\test\\Apple leaf, Number of Files: 9\n",
      "Subfolder: PlantDoc-Dataset\\test\\Apple rust leaf, Number of Files: 10\n",
      "Subfolder: PlantDoc-Dataset\\test\\Apple Scab Leaf, Number of Files: 10\n",
      "Subfolder: PlantDoc-Dataset\\test\\Bell_pepper leaf, Number of Files: 7\n",
      "Subfolder: PlantDoc-Dataset\\test\\Bell_pepper leaf spot, Number of Files: 9\n",
      "Subfolder: PlantDoc-Dataset\\test\\Blueberry leaf, Number of Files: 11\n",
      "Subfolder: PlantDoc-Dataset\\test\\Cherry leaf, Number of Files: 10\n",
      "Subfolder: PlantDoc-Dataset\\test\\Corn Gray leaf spot, Number of Files: 3\n",
      "Subfolder: PlantDoc-Dataset\\test\\Corn leaf blight, Number of Files: 12\n",
      "Subfolder: PlantDoc-Dataset\\test\\Corn rust leaf, Number of Files: 10\n",
      "Subfolder: PlantDoc-Dataset\\test\\grape leaf, Number of Files: 10\n",
      "Subfolder: PlantDoc-Dataset\\test\\grape leaf black rot, Number of Files: 8\n",
      "Subfolder: PlantDoc-Dataset\\test\\Peach leaf, Number of Files: 9\n",
      "Subfolder: PlantDoc-Dataset\\test\\Potato leaf early blight, Number of Files: 8\n",
      "Subfolder: PlantDoc-Dataset\\test\\Potato leaf late blight, Number of Files: 7\n",
      "Subfolder: PlantDoc-Dataset\\test\\Raspberry leaf, Number of Files: 7\n",
      "Subfolder: PlantDoc-Dataset\\test\\Soyabean leaf, Number of Files: 8\n",
      "Subfolder: PlantDoc-Dataset\\test\\Squash Powdery mildew leaf, Number of Files: 6\n",
      "Subfolder: PlantDoc-Dataset\\test\\Strawberry leaf, Number of Files: 8\n",
      "Subfolder: PlantDoc-Dataset\\test\\Tomato Early blight leaf, Number of Files: 9\n",
      "Subfolder: PlantDoc-Dataset\\test\\Tomato leaf, Number of Files: 8\n",
      "Subfolder: PlantDoc-Dataset\\test\\Tomato leaf bacterial spot, Number of Files: 9\n",
      "Subfolder: PlantDoc-Dataset\\test\\Tomato leaf late blight, Number of Files: 10\n",
      "Subfolder: PlantDoc-Dataset\\test\\Tomato leaf mosaic virus, Number of Files: 10\n",
      "Subfolder: PlantDoc-Dataset\\test\\Tomato leaf yellow virus, Number of Files: 6\n",
      "Subfolder: PlantDoc-Dataset\\test\\Tomato mold leaf, Number of Files: 6\n",
      "Subfolder: PlantDoc-Dataset\\test\\Tomato Septoria leaf spot, Number of Files: 11\n"
     ]
    }
   ],
   "source": [
    "test_c = count_files_in_subfolders(test_folder_path)"
   ]
  },
  {
   "cell_type": "code",
   "execution_count": 27,
   "metadata": {},
   "outputs": [],
   "source": [
    "result_dict = {key: train_c.get(key, 0) + test_c.get(key, 0) for key in set(train_c) | set(test_c)}"
   ]
  },
  {
   "cell_type": "code",
   "execution_count": 29,
   "metadata": {},
   "outputs": [],
   "source": [
    "result_dict = dict(sorted(result_dict.items()))"
   ]
  },
  {
   "cell_type": "code",
   "execution_count": 30,
   "metadata": {},
   "outputs": [
    {
     "data": {
      "text/plain": [
       "{'Apple Scab Leaf': 88,\n",
       " 'Apple leaf': 86,\n",
       " 'Apple rust leaf': 86,\n",
       " 'Bell_pepper leaf': 56,\n",
       " 'Bell_pepper leaf spot': 63,\n",
       " 'Blueberry leaf': 108,\n",
       " 'Cherry leaf': 55,\n",
       " 'Corn Gray leaf spot': 64,\n",
       " 'Corn leaf blight': 186,\n",
       " 'Corn rust leaf': 112,\n",
       " 'Peach leaf': 110,\n",
       " 'Potato leaf early blight': 114,\n",
       " 'Potato leaf late blight': 104,\n",
       " 'Raspberry leaf': 118,\n",
       " 'Soyabean leaf': 62,\n",
       " 'Squash Powdery mildew leaf': 126,\n",
       " 'Strawberry leaf': 92,\n",
       " 'Tomato Early blight leaf': 84,\n",
       " 'Tomato Septoria leaf spot': 149,\n",
       " 'Tomato leaf': 62,\n",
       " 'Tomato leaf bacterial spot': 105,\n",
       " 'Tomato leaf late blight': 110,\n",
       " 'Tomato leaf mosaic virus': 54,\n",
       " 'Tomato leaf yellow virus': 75,\n",
       " 'Tomato mold leaf': 85,\n",
       " 'Tomato two spotted spider mites leaf': 2,\n",
       " 'grape leaf': 63,\n",
       " 'grape leaf black rot': 60}"
      ]
     },
     "execution_count": 30,
     "metadata": {},
     "output_type": "execute_result"
    }
   ],
   "source": [
    "result_dict"
   ]
  },
  {
   "cell_type": "code",
   "execution_count": 2,
   "metadata": {},
   "outputs": [
    {
     "data": {
      "text/html": [
       "<div>\n",
       "<style scoped>\n",
       "    .dataframe tbody tr th:only-of-type {\n",
       "        vertical-align: middle;\n",
       "    }\n",
       "\n",
       "    .dataframe tbody tr th {\n",
       "        vertical-align: top;\n",
       "    }\n",
       "\n",
       "    .dataframe thead th {\n",
       "        text-align: right;\n",
       "    }\n",
       "</style>\n",
       "<table border=\"1\" class=\"dataframe\">\n",
       "  <thead>\n",
       "    <tr style=\"text-align: right;\">\n",
       "      <th></th>\n",
       "      <th>File</th>\n",
       "      <th>Binary.Label</th>\n",
       "      <th>Multiclass.Label</th>\n",
       "    </tr>\n",
       "  </thead>\n",
       "  <tbody>\n",
       "    <tr>\n",
       "      <th>0</th>\n",
       "      <td>C1P1H1.jpg</td>\n",
       "      <td>healthy</td>\n",
       "      <td>healthy</td>\n",
       "    </tr>\n",
       "    <tr>\n",
       "      <th>1</th>\n",
       "      <td>C1P2E2.jpg</td>\n",
       "      <td>unhealthy</td>\n",
       "      <td>rust_level_2</td>\n",
       "    </tr>\n",
       "    <tr>\n",
       "      <th>2</th>\n",
       "      <td>C1P2H1.jpg</td>\n",
       "      <td>healthy</td>\n",
       "      <td>healthy</td>\n",
       "    </tr>\n",
       "    <tr>\n",
       "      <th>3</th>\n",
       "      <td>C1P3E1.jpg</td>\n",
       "      <td>healthy</td>\n",
       "      <td>healthy</td>\n",
       "    </tr>\n",
       "    <tr>\n",
       "      <th>4</th>\n",
       "      <td>C1P3E2.jpg</td>\n",
       "      <td>unhealthy</td>\n",
       "      <td>rust_level_2</td>\n",
       "    </tr>\n",
       "  </tbody>\n",
       "</table>\n",
       "</div>"
      ],
      "text/plain": [
       "         File Binary.Label Multiclass.Label\n",
       "0  C1P1H1.jpg      healthy          healthy\n",
       "1  C1P2E2.jpg    unhealthy     rust_level_2\n",
       "2  C1P2H1.jpg      healthy          healthy\n",
       "3  C1P3E1.jpg      healthy          healthy\n",
       "4  C1P3E2.jpg    unhealthy     rust_level_2"
      ]
     },
     "execution_count": 2,
     "metadata": {},
     "output_type": "execute_result"
    }
   ],
   "source": [
    "import os\n",
    "import shutil\n",
    "import pandas as pd\n",
    "\n",
    "# Load your Excel sheet into a pandas DataFrame\n",
    "excel_file_path = 'archive/Annotations/RoCoLe-classes.xlsx'\n",
    "df4 = pd.read_excel(excel_file_path)\n",
    "\n",
    "# Set the source and destination folders\n",
    "source_folder = 'archive/Photos'\n",
    "destination_folder = 'RoCoLe_sep'\n",
    "\n",
    "df4.head()"
   ]
  },
  {
   "cell_type": "code",
   "execution_count": 3,
   "metadata": {},
   "outputs": [
    {
     "name": "stdout",
     "output_type": "stream",
     "text": [
      "Images have been copied based on classes.\n"
     ]
    }
   ],
   "source": [
    "\n",
    "# Iterate through the DataFrame and copy images to the corresponding class folders\n",
    "for index, row in df4.iterrows():\n",
    "    image_name = row['File']  # Replace 'ImageNameColumn' with the actual column name\n",
    "    image_class = row['Multiclass.Label']  # Replace 'ClassColumn' with the actual column name\n",
    "\n",
    "    # Construct source and destination paths\n",
    "    source_path = os.path.join(source_folder, image_name)\n",
    "    destination_path = os.path.join(destination_folder, image_class, image_name)\n",
    "\n",
    "    # Create destination folder if it doesn't exist\n",
    "    os.makedirs(os.path.join(destination_folder, image_class), exist_ok=True)\n",
    "\n",
    "    # Copy the image to the destination folder\n",
    "    shutil.copy(source_path, destination_path)\n",
    "\n",
    "print(\"Images have been copied based on classes.\")\n"
   ]
  },
  {
   "cell_type": "markdown",
   "metadata": {},
   "source": [
    "Plant Village Dataset"
   ]
  },
  {
   "cell_type": "code",
   "execution_count": 6,
   "metadata": {},
   "outputs": [
    {
     "name": "stdout",
     "output_type": "stream",
     "text": [
      "Subfolder: PlantVillage-Dataset/raw/color\\Apple___Apple_scab, Number of Files: 630\n",
      "Subfolder: PlantVillage-Dataset/raw/color\\Apple___Black_rot, Number of Files: 621\n",
      "Subfolder: PlantVillage-Dataset/raw/color\\Apple___Cedar_apple_rust, Number of Files: 275\n",
      "Subfolder: PlantVillage-Dataset/raw/color\\Apple___healthy, Number of Files: 1645\n",
      "Subfolder: PlantVillage-Dataset/raw/color\\Blueberry___healthy, Number of Files: 1502\n",
      "Subfolder: PlantVillage-Dataset/raw/color\\Cherry_(including_sour)___healthy, Number of Files: 854\n",
      "Subfolder: PlantVillage-Dataset/raw/color\\Cherry_(including_sour)___Powdery_mildew, Number of Files: 1052\n",
      "Subfolder: PlantVillage-Dataset/raw/color\\Corn_(maize)___Cercospora_leaf_spot Gray_leaf_spot, Number of Files: 513\n",
      "Subfolder: PlantVillage-Dataset/raw/color\\Corn_(maize)___Common_rust_, Number of Files: 1192\n",
      "Subfolder: PlantVillage-Dataset/raw/color\\Corn_(maize)___healthy, Number of Files: 1162\n",
      "Subfolder: PlantVillage-Dataset/raw/color\\Corn_(maize)___Northern_Leaf_Blight, Number of Files: 985\n",
      "Subfolder: PlantVillage-Dataset/raw/color\\Grape___Black_rot, Number of Files: 1180\n",
      "Subfolder: PlantVillage-Dataset/raw/color\\Grape___Esca_(Black_Measles), Number of Files: 1383\n",
      "Subfolder: PlantVillage-Dataset/raw/color\\Grape___healthy, Number of Files: 423\n",
      "Subfolder: PlantVillage-Dataset/raw/color\\Grape___Leaf_blight_(Isariopsis_Leaf_Spot), Number of Files: 1076\n",
      "Subfolder: PlantVillage-Dataset/raw/color\\Orange___Haunglongbing_(Citrus_greening), Number of Files: 5507\n",
      "Subfolder: PlantVillage-Dataset/raw/color\\Peach___Bacterial_spot, Number of Files: 2297\n",
      "Subfolder: PlantVillage-Dataset/raw/color\\Peach___healthy, Number of Files: 360\n",
      "Subfolder: PlantVillage-Dataset/raw/color\\Pepper,_bell___Bacterial_spot, Number of Files: 997\n",
      "Subfolder: PlantVillage-Dataset/raw/color\\Pepper,_bell___healthy, Number of Files: 1478\n",
      "Subfolder: PlantVillage-Dataset/raw/color\\Potato___Early_blight, Number of Files: 1000\n",
      "Subfolder: PlantVillage-Dataset/raw/color\\Potato___healthy, Number of Files: 152\n",
      "Subfolder: PlantVillage-Dataset/raw/color\\Potato___Late_blight, Number of Files: 1000\n",
      "Subfolder: PlantVillage-Dataset/raw/color\\Raspberry___healthy, Number of Files: 371\n",
      "Subfolder: PlantVillage-Dataset/raw/color\\Soybean___healthy, Number of Files: 5090\n",
      "Subfolder: PlantVillage-Dataset/raw/color\\Squash___Powdery_mildew, Number of Files: 1835\n",
      "Subfolder: PlantVillage-Dataset/raw/color\\Strawberry___healthy, Number of Files: 456\n",
      "Subfolder: PlantVillage-Dataset/raw/color\\Strawberry___Leaf_scorch, Number of Files: 1109\n",
      "Subfolder: PlantVillage-Dataset/raw/color\\Tomato___Bacterial_spot, Number of Files: 2127\n",
      "Subfolder: PlantVillage-Dataset/raw/color\\Tomato___Early_blight, Number of Files: 1000\n",
      "Subfolder: PlantVillage-Dataset/raw/color\\Tomato___healthy, Number of Files: 1591\n",
      "Subfolder: PlantVillage-Dataset/raw/color\\Tomato___Late_blight, Number of Files: 1909\n",
      "Subfolder: PlantVillage-Dataset/raw/color\\Tomato___Leaf_Mold, Number of Files: 952\n",
      "Subfolder: PlantVillage-Dataset/raw/color\\Tomato___Septoria_leaf_spot, Number of Files: 1771\n",
      "Subfolder: PlantVillage-Dataset/raw/color\\Tomato___Spider_mites Two-spotted_spider_mite, Number of Files: 1676\n",
      "Subfolder: PlantVillage-Dataset/raw/color\\Tomato___Target_Spot, Number of Files: 1404\n",
      "Subfolder: PlantVillage-Dataset/raw/color\\Tomato___Tomato_mosaic_virus, Number of Files: 373\n",
      "Subfolder: PlantVillage-Dataset/raw/color\\Tomato___Tomato_Yellow_Leaf_Curl_Virus, Number of Files: 5357\n"
     ]
    },
    {
     "data": {
      "text/plain": [
       "{'Apple___Apple_scab': 630,\n",
       " 'Apple___Black_rot': 621,\n",
       " 'Apple___Cedar_apple_rust': 275,\n",
       " 'Apple___healthy': 1645,\n",
       " 'Blueberry___healthy': 1502,\n",
       " 'Cherry_(including_sour)___healthy': 854,\n",
       " 'Cherry_(including_sour)___Powdery_mildew': 1052,\n",
       " 'Corn_(maize)___Cercospora_leaf_spot Gray_leaf_spot': 513,\n",
       " 'Corn_(maize)___Common_rust_': 1192,\n",
       " 'Corn_(maize)___healthy': 1162,\n",
       " 'Corn_(maize)___Northern_Leaf_Blight': 985,\n",
       " 'Grape___Black_rot': 1180,\n",
       " 'Grape___Esca_(Black_Measles)': 1383,\n",
       " 'Grape___healthy': 423,\n",
       " 'Grape___Leaf_blight_(Isariopsis_Leaf_Spot)': 1076,\n",
       " 'Orange___Haunglongbing_(Citrus_greening)': 5507,\n",
       " 'Peach___Bacterial_spot': 2297,\n",
       " 'Peach___healthy': 360,\n",
       " 'Pepper,_bell___Bacterial_spot': 997,\n",
       " 'Pepper,_bell___healthy': 1478,\n",
       " 'Potato___Early_blight': 1000,\n",
       " 'Potato___healthy': 152,\n",
       " 'Potato___Late_blight': 1000,\n",
       " 'Raspberry___healthy': 371,\n",
       " 'Soybean___healthy': 5090,\n",
       " 'Squash___Powdery_mildew': 1835,\n",
       " 'Strawberry___healthy': 456,\n",
       " 'Strawberry___Leaf_scorch': 1109,\n",
       " 'Tomato___Bacterial_spot': 2127,\n",
       " 'Tomato___Early_blight': 1000,\n",
       " 'Tomato___healthy': 1591,\n",
       " 'Tomato___Late_blight': 1909,\n",
       " 'Tomato___Leaf_Mold': 952,\n",
       " 'Tomato___Septoria_leaf_spot': 1771,\n",
       " 'Tomato___Spider_mites Two-spotted_spider_mite': 1676,\n",
       " 'Tomato___Target_Spot': 1404,\n",
       " 'Tomato___Tomato_mosaic_virus': 373,\n",
       " 'Tomato___Tomato_Yellow_Leaf_Curl_Virus': 5357}"
      ]
     },
     "execution_count": 6,
     "metadata": {},
     "output_type": "execute_result"
    }
   ],
   "source": [
    "def count_files_in_subfolders(folder_path):\n",
    "    counts = dict()\n",
    "    for subdir, dirs, files in os.walk(folder_path):\n",
    "        # Check if the current directory is not the main folder\n",
    "        if subdir != folder_path:\n",
    "            # Count the number of files in the current subfolder\n",
    "            file_count = len(files)\n",
    "            clas = str(subdir).split('\\\\')[-1]\n",
    "            # Print or store the results as needed\n",
    "            print(f\"Subfolder: {subdir}, Number of Files: {file_count}\")\n",
    "            counts[clas] = file_count\n",
    "    return counts\n",
    "\n",
    "count_files_in_subfolders('PlantVillage-Dataset/raw/color')"
   ]
  },
  {
   "cell_type": "markdown",
   "metadata": {},
   "source": [
    "PlantLeafV7"
   ]
  },
  {
   "cell_type": "code",
   "execution_count": 11,
   "metadata": {},
   "outputs": [
    {
     "data": {
      "text/html": [
       "<div>\n",
       "<style scoped>\n",
       "    .dataframe tbody tr th:only-of-type {\n",
       "        vertical-align: middle;\n",
       "    }\n",
       "\n",
       "    .dataframe tbody tr th {\n",
       "        vertical-align: top;\n",
       "    }\n",
       "\n",
       "    .dataframe thead th {\n",
       "        text-align: right;\n",
       "    }\n",
       "</style>\n",
       "<table border=\"1\" class=\"dataframe\">\n",
       "  <thead>\n",
       "    <tr style=\"text-align: right;\">\n",
       "      <th></th>\n",
       "      <th>filename</th>\n",
       "      <th>width</th>\n",
       "      <th>height</th>\n",
       "      <th>class</th>\n",
       "      <th>xmin</th>\n",
       "      <th>ymin</th>\n",
       "      <th>xmax</th>\n",
       "      <th>ymax</th>\n",
       "    </tr>\n",
       "  </thead>\n",
       "  <tbody>\n",
       "    <tr>\n",
       "      <th>0</th>\n",
       "      <td>DSCN0714_JPG.rf.018ca5a62feb94d8876668987fa5f4...</td>\n",
       "      <td>640</td>\n",
       "      <td>640</td>\n",
       "      <td>Dolicos bean_healthy</td>\n",
       "      <td>193</td>\n",
       "      <td>108</td>\n",
       "      <td>518</td>\n",
       "      <td>490</td>\n",
       "    </tr>\n",
       "    <tr>\n",
       "      <th>1</th>\n",
       "      <td>DSCN0714_JPG.rf.018ca5a62feb94d8876668987fa5f4...</td>\n",
       "      <td>640</td>\n",
       "      <td>640</td>\n",
       "      <td>Dolicos bean_healthy</td>\n",
       "      <td>323</td>\n",
       "      <td>306</td>\n",
       "      <td>514</td>\n",
       "      <td>640</td>\n",
       "    </tr>\n",
       "    <tr>\n",
       "      <th>2</th>\n",
       "      <td>DSCN0714_JPG.rf.018ca5a62feb94d8876668987fa5f4...</td>\n",
       "      <td>640</td>\n",
       "      <td>640</td>\n",
       "      <td>Dolicos bean_cercospora leaf spot</td>\n",
       "      <td>371</td>\n",
       "      <td>5</td>\n",
       "      <td>640</td>\n",
       "      <td>288</td>\n",
       "    </tr>\n",
       "    <tr>\n",
       "      <th>3</th>\n",
       "      <td>IMG_20230503_095853_jpg.rf.00111b86164d3e35de5...</td>\n",
       "      <td>640</td>\n",
       "      <td>640</td>\n",
       "      <td>tomato_early blight</td>\n",
       "      <td>154</td>\n",
       "      <td>87</td>\n",
       "      <td>389</td>\n",
       "      <td>338</td>\n",
       "    </tr>\n",
       "    <tr>\n",
       "      <th>4</th>\n",
       "      <td>IMG_20230503_095853_jpg.rf.00111b86164d3e35de5...</td>\n",
       "      <td>640</td>\n",
       "      <td>640</td>\n",
       "      <td>tomato_early blight</td>\n",
       "      <td>140</td>\n",
       "      <td>366</td>\n",
       "      <td>272</td>\n",
       "      <td>428</td>\n",
       "    </tr>\n",
       "  </tbody>\n",
       "</table>\n",
       "</div>"
      ],
      "text/plain": [
       "                                            filename  width  height  \\\n",
       "0  DSCN0714_JPG.rf.018ca5a62feb94d8876668987fa5f4...    640     640   \n",
       "1  DSCN0714_JPG.rf.018ca5a62feb94d8876668987fa5f4...    640     640   \n",
       "2  DSCN0714_JPG.rf.018ca5a62feb94d8876668987fa5f4...    640     640   \n",
       "3  IMG_20230503_095853_jpg.rf.00111b86164d3e35de5...    640     640   \n",
       "4  IMG_20230503_095853_jpg.rf.00111b86164d3e35de5...    640     640   \n",
       "\n",
       "                               class  xmin  ymin  xmax  ymax  \n",
       "0               Dolicos bean_healthy   193   108   518   490  \n",
       "1               Dolicos bean_healthy   323   306   514   640  \n",
       "2  Dolicos bean_cercospora leaf spot   371     5   640   288  \n",
       "3                tomato_early blight   154    87   389   338  \n",
       "4                tomato_early blight   140   366   272   428  "
      ]
     },
     "execution_count": 11,
     "metadata": {},
     "output_type": "execute_result"
    }
   ],
   "source": [
    "import os\n",
    "import shutil\n",
    "import pandas as pd\n",
    "\n",
    "# Load your Excel sheet into a pandas DataFrame\n",
    "excel_file_path = 'PlantLeaf.v7-latest.tensorflow/valid_annotations.csv'\n",
    "df4 = pd.read_csv(excel_file_path)\n",
    "\n",
    "# Set the source and destination folders\n",
    "source_folder = 'PlantLeaf.v7-latest.tensorflow/valid'\n",
    "destination_folder = 'fin_set/valid'\n",
    "\n",
    "df4.head()"
   ]
  },
  {
   "cell_type": "code",
   "execution_count": 12,
   "metadata": {},
   "outputs": [
    {
     "name": "stdout",
     "output_type": "stream",
     "text": [
      "Images have been copied based on classes.\n"
     ]
    }
   ],
   "source": [
    "for index, row in df4.iterrows():\n",
    "    image_name = row['filename']  # Replace 'ImageNameColumn' with the actual column name\n",
    "    image_class = row['class']  # Replace 'ClassColumn' with the actual column name\n",
    "\n",
    "    # Construct source and destination paths\n",
    "    source_path = os.path.join(source_folder, image_name)\n",
    "    destination_path = os.path.join(destination_folder, image_class, image_name)\n",
    "\n",
    "    # Create destination folder if it doesn't exist\n",
    "    os.makedirs(os.path.join(destination_folder, image_class), exist_ok=True)\n",
    "\n",
    "    # Copy the image to the destination folder\n",
    "    shutil.copy(source_path, destination_path)\n",
    "\n",
    "print(\"Images have been copied based on classes.\")"
   ]
  },
  {
   "cell_type": "code",
   "execution_count": 16,
   "metadata": {},
   "outputs": [
    {
     "name": "stdout",
     "output_type": "stream",
     "text": [
      "Subfolder: fin_set\\Apple leaf, Number of Files: 85\n",
      "Subfolder: fin_set\\Apple rust leaf, Number of Files: 86\n",
      "Subfolder: fin_set\\coffee_healthy, Number of Files: 791\n",
      "Subfolder: fin_set\\coffee_red_spider_mite, Number of Files: 167\n",
      "Subfolder: fin_set\\coffee_rust, Number of Files: 602\n",
      "Subfolder: fin_set\\Corn leaf blight, Number of Files: 186\n",
      "Subfolder: fin_set\\Corn rust leaf, Number of Files: 112\n",
      "Subfolder: fin_set\\millet_healthy, Number of Files: 276\n",
      "Subfolder: fin_set\\millet_rust, Number of Files: 344\n",
      "Subfolder: fin_set\\Tomato Early blight leaf, Number of Files: 84\n",
      "Subfolder: fin_set\\Tomato leaf, Number of Files: 62\n",
      "Subfolder: fin_set\\tomato_early blight, Number of Files: 299\n",
      "Subfolder: fin_set\\tomato_healthy, Number of Files: 258\n"
     ]
    }
   ],
   "source": [
    "def count_files_in_subfolders(folder_path):\n",
    "    counts = dict()\n",
    "    for subdir, dirs, files in os.walk(folder_path):\n",
    "        # Check if the current directory is not the main folder\n",
    "        if subdir != folder_path:\n",
    "            # Count the number of files in the current subfolder\n",
    "            file_count = len(files)\n",
    "            clas = str(subdir).split('\\\\')[-1]\n",
    "            # Print or store the results as needed\n",
    "            print(f\"Subfolder: {subdir}, Number of Files: {file_count}\")\n",
    "            counts[clas] = file_count\n",
    "    return counts\n",
    "\n",
    "c_dict = count_files_in_subfolders('fin_set')"
   ]
  },
  {
   "cell_type": "code",
   "execution_count": 17,
   "metadata": {},
   "outputs": [
    {
     "data": {
      "text/plain": [
       "{'Apple leaf': 85,\n",
       " 'Apple rust leaf': 86,\n",
       " 'coffee_healthy': 791,\n",
       " 'coffee_red_spider_mite': 167,\n",
       " 'coffee_rust': 602,\n",
       " 'Corn leaf blight': 186,\n",
       " 'Corn rust leaf': 112,\n",
       " 'millet_healthy': 276,\n",
       " 'millet_rust': 344,\n",
       " 'Tomato Early blight leaf': 84,\n",
       " 'Tomato leaf': 62,\n",
       " 'tomato_early blight': 299,\n",
       " 'tomato_healthy': 258}"
      ]
     },
     "execution_count": 17,
     "metadata": {},
     "output_type": "execute_result"
    }
   ],
   "source": [
    "c_dict"
   ]
  },
  {
   "cell_type": "code",
   "execution_count": 18,
   "metadata": {},
   "outputs": [
    {
     "data": {
      "text/plain": [
       "3352"
      ]
     },
     "execution_count": 18,
     "metadata": {},
     "output_type": "execute_result"
    }
   ],
   "source": [
    "sum(c_dict.values())"
   ]
  }
 ],
 "metadata": {
  "kernelspec": {
   "display_name": "blight_env",
   "language": "python",
   "name": "python3"
  },
  "language_info": {
   "codemirror_mode": {
    "name": "ipython",
    "version": 3
   },
   "file_extension": ".py",
   "mimetype": "text/x-python",
   "name": "python",
   "nbconvert_exporter": "python",
   "pygments_lexer": "ipython3",
   "version": "3.10.10"
  }
 },
 "nbformat": 4,
 "nbformat_minor": 2
}
