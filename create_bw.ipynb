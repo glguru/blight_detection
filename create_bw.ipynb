{
 "cells": [
  {
   "cell_type": "code",
   "execution_count": 8,
   "metadata": {},
   "outputs": [],
   "source": [
    "import os\n",
    "import numpy as np\n",
    "import cv2\n",
    "from tqdm import tqdm\n",
    "from PIL import Image\n",
    "import matplotlib.pyplot as plt"
   ]
  },
  {
   "cell_type": "code",
   "execution_count": 2,
   "metadata": {},
   "outputs": [],
   "source": [
    "IMG_WIDHT = 256\n",
    "IMG_HEIGHT = 256\n",
    "IMG_CHANNELS = 3"
   ]
  },
  {
   "cell_type": "code",
   "execution_count": 5,
   "metadata": {},
   "outputs": [
    {
     "data": {
      "text/plain": [
       "['Apple___Apple_scab',\n",
       " 'Apple___Black_rot',\n",
       " 'Apple___Cedar_apple_rust',\n",
       " 'Apple___healthy']"
      ]
     },
     "execution_count": 5,
     "metadata": {},
     "output_type": "execute_result"
    }
   ],
   "source": [
    "base_dir = \"apple/segmented/\"\n",
    "\n",
    "sub_dirs = next(os.walk(base_dir))[1]\n",
    "des_dir = \"apple/segmented_bw/\"\n",
    "sub_dirs"
   ]
  },
  {
   "cell_type": "code",
   "execution_count": 10,
   "metadata": {},
   "outputs": [],
   "source": [
    "def create_seg_bw(img):\n",
    "    img = img.convert('L')\n",
    "    img = img.point(lambda x:255 if x>0 else 0, '1')\n",
    "    img = np.array(img)\n",
    "    img = img.astype(np.uint8)\n",
    "\n",
    "    kernel_size = 5\n",
    "    kernel = np.ones((kernel_size, kernel_size), np.uint8)\n",
    "    # Erosion\n",
    "    eroded_image = cv2.erode(img, kernel, iterations=2)\n",
    "    result = cv2.normalize(eroded_image, dst=None, alpha=0, beta=255,norm_type=cv2.NORM_MINMAX, dtype=cv2.CV_8U)\n",
    "    # img = Image.fromarray(eroded_image)\n",
    "    return result"
   ]
  },
  {
   "cell_type": "code",
   "execution_count": 11,
   "metadata": {},
   "outputs": [
    {
     "name": "stderr",
     "output_type": "stream",
     "text": [
      "100%|██████████| 630/630 [00:00<00:00, 968.84it/s]\n",
      "100%|██████████| 621/621 [00:00<00:00, 978.85it/s]\n",
      "100%|██████████| 275/275 [00:00<00:00, 977.98it/s]\n",
      "100%|██████████| 1645/1645 [00:01<00:00, 988.18it/s]\n",
      "100%|██████████| 4/4 [00:03<00:00,  1.23it/s]\n"
     ]
    }
   ],
   "source": [
    "for sub_dir in tqdm(sub_dirs, total=len(sub_dirs)):\n",
    "    img_list = os.listdir(base_dir+sub_dir+'/')\n",
    "    for img_name in tqdm(img_list, total=len(img_list)):\n",
    "        image = Image.open(base_dir+sub_dir+'/'+img_name)\n",
    "        image = create_seg_bw(image)\n",
    "        # image.save(des_dir+sub_dir+'/'+img_name)\n",
    "        cv2.imwrite(des_dir+sub_dir+'/'+img_name, image)"
   ]
  }
 ],
 "metadata": {
  "kernelspec": {
   "display_name": "blight_env",
   "language": "python",
   "name": "python3"
  },
  "language_info": {
   "codemirror_mode": {
    "name": "ipython",
    "version": 3
   },
   "file_extension": ".py",
   "mimetype": "text/x-python",
   "name": "python",
   "nbconvert_exporter": "python",
   "pygments_lexer": "ipython3",
   "version": "3.10.10"
  }
 },
 "nbformat": 4,
 "nbformat_minor": 2
}
